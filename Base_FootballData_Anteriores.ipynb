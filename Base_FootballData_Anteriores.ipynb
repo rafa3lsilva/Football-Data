{
 "cells": [
  {
   "cell_type": "markdown",
   "metadata": {
    "id": "pUE3v28S1bkJ"
   },
   "source": [
    "### Base de Dados do Football Data (https://www.football-data.co.uk/)"
   ]
  },
  {
   "cell_type": "markdown",
   "metadata": {
    "id": "a0lXIEGT1XVd"
   },
   "source": [
    "### Importando as Bibliotecas"
   ]
  },
  {
   "cell_type": "code",
   "execution_count": 7,
   "metadata": {
    "executionInfo": {
     "elapsed": 816,
     "status": "ok",
     "timestamp": 1717354055896,
     "user": {
      "displayName": "Rafael Almeida",
      "userId": "12293580337989784824"
     },
     "user_tz": 180
    },
    "id": "ha9-VaUtddoT"
   },
   "outputs": [],
   "source": [
    "import pandas as pd\n",
    "import numpy as np\n",
    "import warnings\n",
    "warnings.simplefilter(\"ignore\")"
   ]
  },
  {
   "cell_type": "markdown",
   "metadata": {
    "id": "mkvxZ2pB1leG"
   },
   "source": [
    "### Definindo as Temporadas e as Ligas"
   ]
  },
  {
   "cell_type": "code",
   "execution_count": 8,
   "metadata": {
    "executionInfo": {
     "elapsed": 9,
     "status": "ok",
     "timestamp": 1717354055898,
     "user": {
      "displayName": "Rafael Almeida",
      "userId": "12293580337989784824"
     },
     "user_tz": 180
    },
    "id": "L0EICAaa1KrO"
   },
   "outputs": [],
   "source": [
    "seasons = [\"2122\",\"2223\",\"2324\"]\n",
    "leagues = [\"E0\", \"E1\", \"E2\", \"E3\", \"EC\", \"SP1\", \"SP2\", \"D1\", \"D2\", \"I1\", \"I2\",\n",
    "           \"F1\", \"F2\", \"SC0\", \"SC1\",\"SC2\",\"SC3\",\"N1\",\"B1\",\"P1\",\"T1\",\"G1\"]"
   ]
  },
  {
   "cell_type": "markdown",
   "metadata": {
    "id": "Dj6X2es71upg"
   },
   "source": [
    "### Concatenando as Ligas"
   ]
  },
  {
   "cell_type": "code",
   "execution_count": 9,
   "metadata": {
    "executionInfo": {
     "elapsed": 48827,
     "status": "ok",
     "timestamp": 1717354104716,
     "user": {
      "displayName": "Rafael Almeida",
      "userId": "12293580337989784824"
     },
     "user_tz": 180
    },
    "id": "2OuvGuAw1XE2"
   },
   "outputs": [
    {
     "name": "stdout",
     "output_type": "stream",
     "text": [
      "Erro ao ler a URL: https://www.football-data.co.uk/mmz4281/2122/EC.csv\n"
     ]
    }
   ],
   "source": [
    "# Lista para armazenar os Dataframes\n",
    "dfs = []\n",
    "\n",
    "# Iterando por cada Temporada e Liga\n",
    "for season in seasons:\n",
    "    for league in leagues:\n",
    "        url = f\"https://www.football-data.co.uk/mmz4281/{season}/{league}.csv\"\n",
    "        try:\n",
    "            df = pd.read_csv(url)\n",
    "            dfs.append(df)\n",
    "        except:\n",
    "            print(f\"Erro ao ler a URL: {url}\")\n",
    "\n",
    "# Concatenar todos os Dataframes\n",
    "df = pd.concat(dfs, ignore_index=True)"
   ]
  },
  {
   "cell_type": "markdown",
   "metadata": {
    "id": "4HPc5piu16ys"
   },
   "source": [
    "### Selecionando as colunas desejadas"
   ]
  },
  {
   "cell_type": "code",
   "execution_count": null,
   "metadata": {
    "executionInfo": {
     "elapsed": 17,
     "status": "ok",
     "timestamp": 1717354104718,
     "user": {
      "displayName": "Rafael Almeida",
      "userId": "12293580337989784824"
     },
     "user_tz": 180
    },
    "id": "2CLCC9Vb15_C"
   },
   "outputs": [],
   "source": [
    "df = df[[\"Div\", \"Date\", \"HomeTeam\", \"AwayTeam\", \"FTHG\", \"FTAG\", \"FTR\"]]\n",
    "df.columns = [\"League\", \"Date\", \"Home\", \"Away\", \"Gols_H\", \"Gols_A\", \"FTR\",]\n",
    "\n",
    "league_mapping = {\n",
    "    \"E0\": \"Premier League\",\n",
    "    \"E1\": \"EFL Championship\",\n",
    "    \"E2\": \"EFL League One\",\n",
    "    \"E3\": \"EFL League Two\",\n",
    "    \"EC\": \"National League\",\n",
    "    \"SP1\": \"LaLiga\",\n",
    "    \"SP2\": \"LaLiga 2\",\n",
    "    \"D1\": \"Bundesliga\",\n",
    "    \"D2\": \"Bundesliga 2\",\n",
    "    \"I1\": \"Serie A\",\n",
    "    \"I2\": \"Serie B\",\n",
    "    \"F1\": \"Ligue 1\",\n",
    "    \"F2\": \"Ligue 2\",\n",
    "    \"SC0\": \"Premiership\",\n",
    "    \"SC1\": \"Championship\",\n",
    "    \"SC2\": \"League One\",\n",
    "    \"SC3\": \"League Two\",\n",
    "    \"N1\": \"Eredivisie\",\n",
    "    \"B1\": \"Jupiler League\",\n",
    "    \"P1\": \"Primeira Liga\",\n",
    "    \"T1\": \"Super Lig\",\n",
    "    \"G1\": \"Superliga\"\n",
    "}\n",
    "df[\"League\"] = df[\"League\"].replace(league_mapping)"
   ]
  },
  {
   "cell_type": "markdown",
   "metadata": {
    "id": "GdYTHyTf2B67"
   },
   "source": [
    "### Ordenando do mais antigo para o mais recente"
   ]
  },
  {
   "cell_type": "code",
   "execution_count": 11,
   "metadata": {
    "id": "KXE6TcL02FWh"
   },
   "outputs": [
    {
     "data": {
      "text/html": [
       "<div>\n",
       "<style scoped>\n",
       "    .dataframe tbody tr th:only-of-type {\n",
       "        vertical-align: middle;\n",
       "    }\n",
       "\n",
       "    .dataframe tbody tr th {\n",
       "        vertical-align: top;\n",
       "    }\n",
       "\n",
       "    .dataframe thead th {\n",
       "        text-align: right;\n",
       "    }\n",
       "</style>\n",
       "<table border=\"1\" class=\"dataframe\">\n",
       "  <thead>\n",
       "    <tr style=\"text-align: right;\">\n",
       "      <th></th>\n",
       "      <th>League</th>\n",
       "      <th>Date</th>\n",
       "      <th>Home</th>\n",
       "      <th>Away</th>\n",
       "      <th>Gols_H</th>\n",
       "      <th>Gols_A</th>\n",
       "      <th>FTR</th>\n",
       "    </tr>\n",
       "  </thead>\n",
       "  <tbody>\n",
       "    <tr>\n",
       "      <th>1</th>\n",
       "      <td>Jupiler League</td>\n",
       "      <td>2021-07-23</td>\n",
       "      <td>Standard</td>\n",
       "      <td>Genk</td>\n",
       "      <td>1</td>\n",
       "      <td>1</td>\n",
       "      <td>D</td>\n",
       "    </tr>\n",
       "    <tr>\n",
       "      <th>2</th>\n",
       "      <td>Bundesliga 2</td>\n",
       "      <td>2021-07-23</td>\n",
       "      <td>Schalke 04</td>\n",
       "      <td>Hamburg</td>\n",
       "      <td>1</td>\n",
       "      <td>3</td>\n",
       "      <td>A</td>\n",
       "    </tr>\n",
       "    <tr>\n",
       "      <th>3</th>\n",
       "      <td>Ligue 2</td>\n",
       "      <td>2021-07-24</td>\n",
       "      <td>Pau FC</td>\n",
       "      <td>Nancy</td>\n",
       "      <td>2</td>\n",
       "      <td>1</td>\n",
       "      <td>H</td>\n",
       "    </tr>\n",
       "    <tr>\n",
       "      <th>4</th>\n",
       "      <td>Ligue 2</td>\n",
       "      <td>2021-07-24</td>\n",
       "      <td>Bastia</td>\n",
       "      <td>Nimes</td>\n",
       "      <td>1</td>\n",
       "      <td>1</td>\n",
       "      <td>D</td>\n",
       "    </tr>\n",
       "    <tr>\n",
       "      <th>5</th>\n",
       "      <td>Ligue 2</td>\n",
       "      <td>2021-07-24</td>\n",
       "      <td>Amiens</td>\n",
       "      <td>Auxerre</td>\n",
       "      <td>1</td>\n",
       "      <td>2</td>\n",
       "      <td>A</td>\n",
       "    </tr>\n",
       "    <tr>\n",
       "      <th>...</th>\n",
       "      <td>...</td>\n",
       "      <td>...</td>\n",
       "      <td>...</td>\n",
       "      <td>...</td>\n",
       "      <td>...</td>\n",
       "      <td>...</td>\n",
       "      <td>...</td>\n",
       "    </tr>\n",
       "    <tr>\n",
       "      <th>22940</th>\n",
       "      <td>LaLiga 2</td>\n",
       "      <td>2024-06-02</td>\n",
       "      <td>Villarreal B</td>\n",
       "      <td>Santander</td>\n",
       "      <td>1</td>\n",
       "      <td>0</td>\n",
       "      <td>H</td>\n",
       "    </tr>\n",
       "    <tr>\n",
       "      <th>22941</th>\n",
       "      <td>LaLiga 2</td>\n",
       "      <td>2024-06-02</td>\n",
       "      <td>Zaragoza</td>\n",
       "      <td>Albacete</td>\n",
       "      <td>1</td>\n",
       "      <td>1</td>\n",
       "      <td>D</td>\n",
       "    </tr>\n",
       "    <tr>\n",
       "      <th>22942</th>\n",
       "      <td>Jupiler League</td>\n",
       "      <td>2024-06-02</td>\n",
       "      <td>Genk</td>\n",
       "      <td>Gent</td>\n",
       "      <td>0</td>\n",
       "      <td>1</td>\n",
       "      <td>A</td>\n",
       "    </tr>\n",
       "    <tr>\n",
       "      <th>22943</th>\n",
       "      <td>LaLiga 2</td>\n",
       "      <td>2024-06-02</td>\n",
       "      <td>Alcorcon</td>\n",
       "      <td>Burgos</td>\n",
       "      <td>1</td>\n",
       "      <td>1</td>\n",
       "      <td>D</td>\n",
       "    </tr>\n",
       "    <tr>\n",
       "      <th>22944</th>\n",
       "      <td>LaLiga 2</td>\n",
       "      <td>2024-06-02</td>\n",
       "      <td>Mirandes</td>\n",
       "      <td>Amorebieta</td>\n",
       "      <td>1</td>\n",
       "      <td>0</td>\n",
       "      <td>H</td>\n",
       "    </tr>\n",
       "  </tbody>\n",
       "</table>\n",
       "<p>22944 rows × 7 columns</p>\n",
       "</div>"
      ],
      "text/plain": [
       "               League        Date          Home        Away  Gols_H  Gols_A  \\\n",
       "1      Jupiler League  2021-07-23      Standard        Genk       1       1   \n",
       "2        Bundesliga 2  2021-07-23    Schalke 04     Hamburg       1       3   \n",
       "3             Ligue 2  2021-07-24        Pau FC       Nancy       2       1   \n",
       "4             Ligue 2  2021-07-24        Bastia       Nimes       1       1   \n",
       "5             Ligue 2  2021-07-24        Amiens     Auxerre       1       2   \n",
       "...               ...         ...           ...         ...     ...     ...   \n",
       "22940        LaLiga 2  2024-06-02  Villarreal B   Santander       1       0   \n",
       "22941        LaLiga 2  2024-06-02      Zaragoza    Albacete       1       1   \n",
       "22942  Jupiler League  2024-06-02          Genk        Gent       0       1   \n",
       "22943        LaLiga 2  2024-06-02      Alcorcon      Burgos       1       1   \n",
       "22944        LaLiga 2  2024-06-02      Mirandes  Amorebieta       1       0   \n",
       "\n",
       "      FTR  \n",
       "1       D  \n",
       "2       A  \n",
       "3       H  \n",
       "4       D  \n",
       "5       A  \n",
       "...    ..  \n",
       "22940   H  \n",
       "22941   D  \n",
       "22942   A  \n",
       "22943   D  \n",
       "22944   H  \n",
       "\n",
       "[22944 rows x 7 columns]"
      ]
     },
     "execution_count": 11,
     "metadata": {},
     "output_type": "execute_result"
    }
   ],
   "source": [
    "df[\"Date\"] = pd.to_datetime(df[\"Date\"], format='%d/%m/%Y')\n",
    "df[\"Date\"] = df[\"Date\"].dt.date\n",
    "df = df.sort_values(by=\"Date\")\n",
    "\n",
    "df = df.reset_index(drop=True)\n",
    "df.index += 1\n",
    "df = df.dropna()\n",
    "df"
   ]
  },
  {
   "cell_type": "markdown",
   "metadata": {
    "id": "YKBiC6QW214G"
   },
   "source": [
    "### Salvando a Planilha em Excel"
   ]
  },
  {
   "cell_type": "code",
   "execution_count": 12,
   "metadata": {
    "id": "49mdz-6N23-f"
   },
   "outputs": [],
   "source": [
    "df.to_csv(\"BaseDados\\Base_FootballData_Temporadas_anteriores.csv\",index=False)"
   ]
  }
 ],
 "metadata": {
  "colab": {
   "provenance": [
    {
     "file_id": "1Oz_vl8-jWL5IoEWCIJVRDMD6CqtJGUi-",
     "timestamp": 1699017948048
    }
   ]
  },
  "kernelspec": {
   "display_name": ".venv",
   "language": "python",
   "name": "python3"
  },
  "language_info": {
   "codemirror_mode": {
    "name": "ipython",
    "version": 3
   },
   "file_extension": ".py",
   "mimetype": "text/x-python",
   "name": "python",
   "nbconvert_exporter": "python",
   "pygments_lexer": "ipython3",
   "version": "3.13.2"
  }
 },
 "nbformat": 4,
 "nbformat_minor": 0
}
