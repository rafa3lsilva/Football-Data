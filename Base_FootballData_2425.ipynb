{
 "cells": [
  {
   "cell_type": "markdown",
   "metadata": {
    "id": "pUE3v28S1bkJ"
   },
   "source": [
    "### Base de Dados do Football Data (https://www.football-data.co.uk/)"
   ]
  },
  {
   "cell_type": "markdown",
   "metadata": {
    "id": "a0lXIEGT1XVd"
   },
   "source": [
    "### Importando as Bibliotecas"
   ]
  },
  {
   "cell_type": "code",
   "execution_count": 15,
   "metadata": {
    "executionInfo": {
     "elapsed": 932,
     "status": "ok",
     "timestamp": 1723545755156,
     "user": {
      "displayName": "Rafael Almeida",
      "userId": "12293580337989784824"
     },
     "user_tz": 180
    },
    "id": "ha9-VaUtddoT"
   },
   "outputs": [],
   "source": [
    "import pandas as pd\n",
    "import numpy as np\n",
    "import warnings\n",
    "warnings.simplefilter(\"ignore\")"
   ]
  },
  {
   "cell_type": "markdown",
   "metadata": {
    "id": "mkvxZ2pB1leG"
   },
   "source": [
    "### Definindo as Temporadas e as Ligas"
   ]
  },
  {
   "cell_type": "code",
   "execution_count": 16,
   "metadata": {
    "executionInfo": {
     "elapsed": 6,
     "status": "ok",
     "timestamp": 1723545755156,
     "user": {
      "displayName": "Rafael Almeida",
      "userId": "12293580337989784824"
     },
     "user_tz": 180
    },
    "id": "L0EICAaa1KrO"
   },
   "outputs": [],
   "source": [
    "leagues = [\"E0\", \"E1\",\"E2\",\"E3\", \"EC\", \"SP1\", \"SP2\", \"D1\", \"D2\", \"I1\", \"I2\",\n",
    "           \"F1\", \"F2\", \"SC0\",\"SC1\",\"SC2\",\"SC3\",\"N1\",\"B1\",\"P1\",\"T1\",\"G1\"]"
   ]
  },
  {
   "cell_type": "markdown",
   "metadata": {
    "id": "Dj6X2es71upg"
   },
   "source": [
    "### Concatenando as Ligas"
   ]
  },
  {
   "cell_type": "code",
   "execution_count": 17,
   "metadata": {
    "colab": {
     "base_uri": "https://localhost:8080/"
    },
    "executionInfo": {
     "elapsed": 11037,
     "status": "ok",
     "timestamp": 1723545766189,
     "user": {
      "displayName": "Rafael Almeida",
      "userId": "12293580337989784824"
     },
     "user_tz": 180
    },
    "id": "2OuvGuAw1XE2",
    "outputId": "9ffe50ce-12bd-48c8-c8c6-df4204a8a754"
   },
   "outputs": [
    {
     "name": "stdout",
     "output_type": "stream",
     "text": [
      "Erro ao ler a URL: https://www.football-data.co.uk/mmz4281/2425/D2.csv\n"
     ]
    }
   ],
   "source": [
    "# Lista para armazenar os Dataframes\n",
    "dfs = []\n",
    "\n",
    "# Iterando por cada Temporada e Liga\n",
    "for league in leagues:\n",
    "        url = f\"https://www.football-data.co.uk/mmz4281/2425/{league}.csv\"\n",
    "        try:\n",
    "            df = pd.read_csv(url)\n",
    "            dfs.append(df)\n",
    "        except:\n",
    "            print(f\"Erro ao ler a URL: {url}\")\n",
    "\n",
    "# Concatenar todos os Dataframes\n",
    "df = pd.concat(dfs, ignore_index=True)"
   ]
  },
  {
   "cell_type": "markdown",
   "metadata": {
    "id": "4HPc5piu16ys"
   },
   "source": [
    "### Selecionando as colunas desejadas"
   ]
  },
  {
   "cell_type": "code",
   "execution_count": 18,
   "metadata": {
    "id": "2CLCC9Vb15_C"
   },
   "outputs": [],
   "source": [
    "df = df[[\"Div\", \"Date\", \"HomeTeam\", \"AwayTeam\", \"FTHG\", \"FTAG\", \"FTR\"]]\n",
    "df.columns = [\"League\", \"Date\", \"Home\", \"Away\", \"Gols_H\", \"Gols_A\", \"FTR\",]\n",
    "\n",
    "league_mapping = {\n",
    "    \"E0\": \"Premier League\",\n",
    "    \"E1\": \"EFL Championship\",\n",
    "    \"E2\": \"EFL League One\",\n",
    "    \"E3\": \"EFL League Two\",\n",
    "    \"EC\": \"National League\",\n",
    "    \"SP1\": \"LaLiga\",\n",
    "    \"SP2\": \"LaLiga 2\",\n",
    "    \"D1\": \"Bundesliga\",\n",
    "    \"D2\": \"Bundesliga 2\",\n",
    "    \"I1\": \"Serie A\",\n",
    "    \"I2\": \"Serie B\",\n",
    "    \"F1\": \"Ligue 1\",\n",
    "    \"F2\": \"Ligue 2\",\n",
    "    \"SC0\": \"Premiership\",\n",
    "    \"SC1\": \"Championship\",\n",
    "    \"SC2\": \"League One\",\n",
    "    \"SC3\": \"League Two\",\n",
    "    \"N1\": \"Eredivisie\",\n",
    "    \"B1\": \"Jupiler League\",\n",
    "    \"P1\": \"Primeira Liga\",\n",
    "    \"T1\": \"Super Lig\",\n",
    "    \"G1\": \"Superliga\"\n",
    "}\n",
    "df[\"League\"] = df[\"League\"].replace(league_mapping)"
   ]
  },
  {
   "cell_type": "markdown",
   "metadata": {
    "id": "GdYTHyTf2B67"
   },
   "source": [
    "### Ordenando do mais antigo para o mais recente"
   ]
  },
  {
   "cell_type": "code",
   "execution_count": 19,
   "metadata": {
    "colab": {
     "base_uri": "https://localhost:8080/",
     "height": 617
    },
    "executionInfo": {
     "elapsed": 349,
     "status": "ok",
     "timestamp": 1723545870962,
     "user": {
      "displayName": "Rafael Almeida",
      "userId": "12293580337989784824"
     },
     "user_tz": 180
    },
    "id": "KXE6TcL02FWh",
    "outputId": "a232f89a-1f7e-4924-e60d-ae64af3942ca"
   },
   "outputs": [],
   "source": [
    "df[\"Date\"] = pd.to_datetime(df[\"Date\"], format='%d/%m/%Y')\n",
    "df[\"Date\"] = df[\"Date\"].dt.date\n",
    "df = df.sort_values(by=\"Date\")\n",
    "\n",
    "df = df.reset_index(drop=True)\n",
    "df.index += 1\n",
    "df = df.dropna()"
   ]
  },
  {
   "cell_type": "code",
   "execution_count": 20,
   "metadata": {},
   "outputs": [
    {
     "data": {
      "text/html": [
       "<div>\n",
       "<style scoped>\n",
       "    .dataframe tbody tr th:only-of-type {\n",
       "        vertical-align: middle;\n",
       "    }\n",
       "\n",
       "    .dataframe tbody tr th {\n",
       "        vertical-align: top;\n",
       "    }\n",
       "\n",
       "    .dataframe thead th {\n",
       "        text-align: right;\n",
       "    }\n",
       "</style>\n",
       "<table border=\"1\" class=\"dataframe\">\n",
       "  <thead>\n",
       "    <tr style=\"text-align: right;\">\n",
       "      <th></th>\n",
       "      <th>Home</th>\n",
       "      <th>Away</th>\n",
       "      <th>League</th>\n",
       "      <th>Season</th>\n",
       "      <th>Date</th>\n",
       "      <th>Gols_H</th>\n",
       "      <th>Gols_A</th>\n",
       "      <th>FTR</th>\n",
       "      <th>Placar</th>\n",
       "    </tr>\n",
       "  </thead>\n",
       "  <tbody>\n",
       "    <tr>\n",
       "      <th>1</th>\n",
       "      <td>Club Brugge</td>\n",
       "      <td>Mechelen</td>\n",
       "      <td>Jupiler League</td>\n",
       "      <td>2024/2025</td>\n",
       "      <td>2024-07-26</td>\n",
       "      <td>1</td>\n",
       "      <td>1</td>\n",
       "      <td>D</td>\n",
       "      <td>1 x 1</td>\n",
       "    </tr>\n",
       "    <tr>\n",
       "      <th>2</th>\n",
       "      <td>Anderlecht</td>\n",
       "      <td>St Truiden</td>\n",
       "      <td>Jupiler League</td>\n",
       "      <td>2024/2025</td>\n",
       "      <td>2024-07-27</td>\n",
       "      <td>1</td>\n",
       "      <td>0</td>\n",
       "      <td>H</td>\n",
       "      <td>1 x 0</td>\n",
       "    </tr>\n",
       "    <tr>\n",
       "      <th>3</th>\n",
       "      <td>Beerschot VA</td>\n",
       "      <td>Oud-Heverlee Leuven</td>\n",
       "      <td>Jupiler League</td>\n",
       "      <td>2024/2025</td>\n",
       "      <td>2024-07-27</td>\n",
       "      <td>0</td>\n",
       "      <td>0</td>\n",
       "      <td>D</td>\n",
       "      <td>0 x 0</td>\n",
       "    </tr>\n",
       "    <tr>\n",
       "      <th>4</th>\n",
       "      <td>Dender</td>\n",
       "      <td>St. Gilloise</td>\n",
       "      <td>Jupiler League</td>\n",
       "      <td>2024/2025</td>\n",
       "      <td>2024-07-27</td>\n",
       "      <td>0</td>\n",
       "      <td>0</td>\n",
       "      <td>D</td>\n",
       "      <td>0 x 0</td>\n",
       "    </tr>\n",
       "    <tr>\n",
       "      <th>5</th>\n",
       "      <td>Charleroi</td>\n",
       "      <td>Antwerp</td>\n",
       "      <td>Jupiler League</td>\n",
       "      <td>2024/2025</td>\n",
       "      <td>2024-07-28</td>\n",
       "      <td>0</td>\n",
       "      <td>1</td>\n",
       "      <td>A</td>\n",
       "      <td>0 x 1</td>\n",
       "    </tr>\n",
       "    <tr>\n",
       "      <th>...</th>\n",
       "      <td>...</td>\n",
       "      <td>...</td>\n",
       "      <td>...</td>\n",
       "      <td>...</td>\n",
       "      <td>...</td>\n",
       "      <td>...</td>\n",
       "      <td>...</td>\n",
       "      <td>...</td>\n",
       "      <td>...</td>\n",
       "    </tr>\n",
       "    <tr>\n",
       "      <th>6233</th>\n",
       "      <td>Peterboro</td>\n",
       "      <td>Birmingham</td>\n",
       "      <td>EFL League One</td>\n",
       "      <td>2024/2025</td>\n",
       "      <td>2025-04-08</td>\n",
       "      <td>1</td>\n",
       "      <td>2</td>\n",
       "      <td>A</td>\n",
       "      <td>1 x 2</td>\n",
       "    </tr>\n",
       "    <tr>\n",
       "      <th>6234</th>\n",
       "      <td>Shrewsbury</td>\n",
       "      <td>Reading</td>\n",
       "      <td>EFL League One</td>\n",
       "      <td>2024/2025</td>\n",
       "      <td>2025-04-08</td>\n",
       "      <td>1</td>\n",
       "      <td>3</td>\n",
       "      <td>A</td>\n",
       "      <td>1 x 3</td>\n",
       "    </tr>\n",
       "    <tr>\n",
       "      <th>6235</th>\n",
       "      <td>Oxford</td>\n",
       "      <td>QPR</td>\n",
       "      <td>EFL Championship</td>\n",
       "      <td>2024/2025</td>\n",
       "      <td>2025-04-09</td>\n",
       "      <td>1</td>\n",
       "      <td>3</td>\n",
       "      <td>A</td>\n",
       "      <td>1 x 3</td>\n",
       "    </tr>\n",
       "    <tr>\n",
       "      <th>6236</th>\n",
       "      <td>Coventry</td>\n",
       "      <td>Portsmouth</td>\n",
       "      <td>EFL Championship</td>\n",
       "      <td>2024/2025</td>\n",
       "      <td>2025-04-09</td>\n",
       "      <td>1</td>\n",
       "      <td>0</td>\n",
       "      <td>H</td>\n",
       "      <td>1 x 0</td>\n",
       "    </tr>\n",
       "    <tr>\n",
       "      <th>6237</th>\n",
       "      <td>Swansea</td>\n",
       "      <td>Plymouth</td>\n",
       "      <td>EFL Championship</td>\n",
       "      <td>2024/2025</td>\n",
       "      <td>2025-04-09</td>\n",
       "      <td>3</td>\n",
       "      <td>0</td>\n",
       "      <td>H</td>\n",
       "      <td>3 x 0</td>\n",
       "    </tr>\n",
       "  </tbody>\n",
       "</table>\n",
       "<p>6237 rows × 9 columns</p>\n",
       "</div>"
      ],
      "text/plain": [
       "              Home                 Away            League     Season  \\\n",
       "1      Club Brugge             Mechelen    Jupiler League  2024/2025   \n",
       "2       Anderlecht           St Truiden    Jupiler League  2024/2025   \n",
       "3     Beerschot VA  Oud-Heverlee Leuven    Jupiler League  2024/2025   \n",
       "4           Dender         St. Gilloise    Jupiler League  2024/2025   \n",
       "5        Charleroi              Antwerp    Jupiler League  2024/2025   \n",
       "...            ...                  ...               ...        ...   \n",
       "6233     Peterboro           Birmingham    EFL League One  2024/2025   \n",
       "6234    Shrewsbury              Reading    EFL League One  2024/2025   \n",
       "6235        Oxford                  QPR  EFL Championship  2024/2025   \n",
       "6236      Coventry           Portsmouth  EFL Championship  2024/2025   \n",
       "6237       Swansea             Plymouth  EFL Championship  2024/2025   \n",
       "\n",
       "            Date  Gols_H  Gols_A FTR Placar  \n",
       "1     2024-07-26       1       1   D  1 x 1  \n",
       "2     2024-07-27       1       0   H  1 x 0  \n",
       "3     2024-07-27       0       0   D  0 x 0  \n",
       "4     2024-07-27       0       0   D  0 x 0  \n",
       "5     2024-07-28       0       1   A  0 x 1  \n",
       "...          ...     ...     ...  ..    ...  \n",
       "6233  2025-04-08       1       2   A  1 x 2  \n",
       "6234  2025-04-08       1       3   A  1 x 3  \n",
       "6235  2025-04-09       1       3   A  1 x 3  \n",
       "6236  2025-04-09       1       0   H  1 x 0  \n",
       "6237  2025-04-09       3       0   H  3 x 0  \n",
       "\n",
       "[6237 rows x 9 columns]"
      ]
     },
     "execution_count": 20,
     "metadata": {},
     "output_type": "execute_result"
    }
   ],
   "source": [
    "df[\"Gols_H\"] = df[\"Gols_H\"].astype(int)\n",
    "df[\"Gols_A\"] = df[\"Gols_A\"].astype(int)\n",
    "\n",
    "df['Season'] = '2024/2025'\n",
    "df['Season'] = df['Season'].astype(str)\n",
    "\n",
    "df['Placar'] = df['Gols_H'].astype(str) + \" x \" + df['Gols_A'].astype(str)\n",
    "\n",
    "\n",
    "df = df[[\"Home\", \"Away\", \"League\", \"Season\", \"Date\", \"Gols_H\" , \"Gols_A\" , \"FTR\", \"Placar\"]]\n",
    "df"
   ]
  },
  {
   "cell_type": "markdown",
   "metadata": {
    "id": "YKBiC6QW214G"
   },
   "source": [
    "### Salvando a Planilha"
   ]
  },
  {
   "cell_type": "code",
   "execution_count": 21,
   "metadata": {
    "executionInfo": {
     "elapsed": 826,
     "status": "ok",
     "timestamp": 1723546215535,
     "user": {
      "displayName": "Rafael Almeida",
      "userId": "12293580337989784824"
     },
     "user_tz": 180
    },
    "id": "49mdz-6N23-f"
   },
   "outputs": [],
   "source": [
    "df.to_csv(\"BaseDados\\Base_FootballData_2425.csv\",index=False)"
   ]
  }
 ],
 "metadata": {
  "colab": {
   "provenance": [
    {
     "file_id": "19gr43Q0ApX5j6rKSkiCEcq57MQbCUw5S",
     "timestamp": 1723545575880
    },
    {
     "file_id": "1hFhxpHMwTBd_XBB47g8HbrpiyEipD_f1",
     "timestamp": 1708265122848
    },
    {
     "file_id": "1I8d4xZPl4tac4LgbrxOmMNzPnfSL3IJ8",
     "timestamp": 1706549043316
    },
    {
     "file_id": "1Oz_vl8-jWL5IoEWCIJVRDMD6CqtJGUi-",
     "timestamp": 1699017948048
    }
   ]
  },
  "kernelspec": {
   "display_name": ".venv",
   "language": "python",
   "name": "python3"
  },
  "language_info": {
   "codemirror_mode": {
    "name": "ipython",
    "version": 3
   },
   "file_extension": ".py",
   "mimetype": "text/x-python",
   "name": "python",
   "nbconvert_exporter": "python",
   "pygments_lexer": "ipython3",
   "version": "3.13.2"
  }
 },
 "nbformat": 4,
 "nbformat_minor": 0
}
